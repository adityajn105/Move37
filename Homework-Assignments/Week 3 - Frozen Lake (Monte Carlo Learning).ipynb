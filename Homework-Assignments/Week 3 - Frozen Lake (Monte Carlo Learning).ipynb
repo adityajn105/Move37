{
 "cells": [
  {
   "cell_type": "code",
   "execution_count": 1,
   "metadata": {},
   "outputs": [
    {
     "name": "stderr",
     "output_type": "stream",
     "text": [
      "/home/aditya/.conda/envs/py3k/lib/python3.6/site-packages/tqdm/autonotebook/__init__.py:14: TqdmExperimentalWarning: Using `tqdm.autonotebook.tqdm` in notebook mode. Use `tqdm.tqdm` instead to force console mode (e.g. in jupyter console)\n",
      "  \" (e.g. in jupyter console)\", TqdmExperimentalWarning)\n",
      "/home/aditya/.conda/envs/py3k/lib/python3.6/site-packages/gym/envs/registration.py:14: PkgResourcesDeprecationWarning: Parameters to load are deprecated.  Call .resolve and .require separately.\n",
      "  result = entry_point.load(False)\n"
     ]
    }
   ],
   "source": [
    "import numpy as np\n",
    "from tqdm.autonotebook import tqdm\n",
    "import gym\n",
    "import random\n",
    "import time\n",
    "%matplotlib inline\n",
    "import matplotlib.pyplot as plt\n",
    "\n",
    "game = gym.make('FrozenLake-v0')\n",
    "env = game.env\n",
    "policy_to_action = {0:'L',1:'D',2:'R',3:'U'}"
   ]
  },
  {
   "cell_type": "code",
   "execution_count": 2,
   "metadata": {},
   "outputs": [],
   "source": [
    "GAMMA = 0.9\n",
    "\n",
    "def epsilon_greedy(a,env,eps=0.1):\n",
    "    p = np.random.random()\n",
    "    if p < 1-eps: #exploit\n",
    "        return a\n",
    "    else: #explore\n",
    "        return np.random.randint(0,env.nA)"
   ]
  },
  {
   "cell_type": "code",
   "execution_count": 3,
   "metadata": {},
   "outputs": [],
   "source": [
    "def play_game(env,policy,EPSILON):\n",
    "    s = env.reset()\n",
    "    a = epsilon_greedy(policy[s],env,eps=EPSILON)\n",
    "    \n",
    "    #reward belong to one state and action before\n",
    "    state_action_reward = [(s,a,0)]\n",
    "    while True:\n",
    "        s,r,terminated,_ = env.step(a)\n",
    "        if terminated:\n",
    "            state_action_reward.append((s,None,r))\n",
    "            break\n",
    "        else:\n",
    "            a = epsilon_greedy(policy[s],env,eps=EPSILON)\n",
    "            state_action_reward.append((s,a,r))\n",
    "    G=0\n",
    "    state_action_return = []\n",
    "    first = True\n",
    "    for s,a,r in reversed(state_action_reward):\n",
    "        if first:\n",
    "            first=False\n",
    "        else:\n",
    "            state_action_return.append((s,a,G))\n",
    "            \n",
    "        G = r + GAMMA*G\n",
    "        state_action_return.reverse()\n",
    "    return state_action_return"
   ]
  },
  {
   "cell_type": "code",
   "execution_count": 4,
   "metadata": {},
   "outputs": [],
   "source": [
    "def monte_carlo(env,EPSILON=0.5,N_EPISODES=10000):\n",
    "    policy = np.random.choice(env.nA,env.nS)\n",
    "    \n",
    "    Q = {}\n",
    "    visit = {}\n",
    "    for s in range(env.nS):\n",
    "        Q[s] = {}\n",
    "        visit[s] = {}\n",
    "        for a in range(env.nA):\n",
    "            Q[s][a] = 0\n",
    "            visit[s][a] = 0\n",
    "        \n",
    "    deltas = [] #keep track of learning curve\n",
    "    for i in tqdm(range(N_EPISODES),desc=\"Episodes Completed : \",leave=False):\n",
    "        \n",
    "        # epsilon decreasing\n",
    "        esp = max( 0, EPSILON - i/N_EPISODES )\n",
    "        \n",
    "        state_action_return = play_game(env,policy,esp)\n",
    "        seen_state_action = set()\n",
    "        biggest_change = 0\n",
    "        for s,a,G in state_action_return:\n",
    "            if (s,a) not in seen_state_action:\n",
    "                visit[s][a] += 1\n",
    "                oldq = Q[s][a]\n",
    "                #incremental mean\n",
    "                Q[s][a] = Q[s][a] + ( G - Q[s][a] )/visit[s][a]\n",
    "                seen_state_action.add((s,a))\n",
    "                biggest_change = max( biggest_change , np.abs(oldq - Q[s][a]) )\n",
    "        deltas.append(biggest_change)\n",
    "        \n",
    "        #update policy\n",
    "        for s in Q.keys():\n",
    "            best_a = None\n",
    "            best_G = float('-inf')\n",
    "            for a,G in Q[s].items():\n",
    "                if G > best_G:\n",
    "                    best_G = G\n",
    "                    best_a = a\n",
    "            policy[s] = best_a\n",
    "    \n",
    "    V = []\n",
    "    for s in Q.keys():\n",
    "        best_G = float('-inf')\n",
    "        for _,G in Q[s].items():\n",
    "            if G > best_G:\n",
    "                best_G = G\n",
    "        V.append(best_G)\n",
    "        \n",
    "    return V,policy,deltas"
   ]
  },
  {
   "cell_type": "code",
   "execution_count": 5,
   "metadata": {},
   "outputs": [
    {
     "data": {
      "application/vnd.jupyter.widget-view+json": {
       "model_id": "",
       "version_major": 2,
       "version_minor": 0
      },
      "text/plain": [
       "HBox(children=(IntProgress(value=0, description='Episodes Completed : ', max=1000000, style=ProgressStyle(desc…"
      ]
     },
     "metadata": {},
     "output_type": "display_data"
    },
    {
     "name": "stdout",
     "output_type": "stream",
     "text": [
      "\r",
      "TIME TAKEN 528.1769874095917 seconds\n",
      "Optimal Policy :\n",
      " [['L' 'U' 'L' 'U']\n",
      " ['L' 'L' 'R' 'L']\n",
      " ['U' 'D' 'L' 'L']\n",
      " ['L' 'R' 'D' 'L']] \n",
      "Optimal Values :\n",
      " [[ 0.05925071  0.04690184  0.06774712  0.03214937]\n",
      " [ 0.09627629  0.          0.11809879  0.        ]\n",
      " [ 0.15593271  0.30300095  0.34321072  0.        ]\n",
      " [ 0.          0.41719     0.69457795  0.        ]]\n"
     ]
    },
    {
     "data": {
      "image/png": "[encoded data removed]",
      "text/plain": [
       "<matplotlib.figure.Figure at 0x7ff589d97518>"
      ]
     },
     "metadata": {},
     "output_type": "display_data"
    }
   ],
   "source": [
    "start = time.time()\n",
    "value,policy,Delta = monte_carlo(env,EPSILON=0.4,N_EPISODES=1000000)\n",
    "print('TIME TAKEN {} seconds'.format(time.time()-start))\n",
    "\n",
    "size=4\n",
    "gpolicy = list(map(lambda a: policy_to_action[a],policy))\n",
    "print(\"Optimal Policy :\\n {} \".format(np.reshape(gpolicy,(size,size))))\n",
    "print(\"Optimal Values :\\n {}\".format(np.reshape(value,(size,size))))\n",
    "\n",
    "plt.plot(Delta)\n",
    "plt.show()"
   ]
  },
  {
   "cell_type": "code",
   "execution_count": 8,
   "metadata": {},
   "outputs": [
    {
     "name": "stdout",
     "output_type": "stream",
     "text": [
      "Success Rate : 0.735\n"
     ]
    }
   ],
   "source": [
    "\"\"\"\n",
    "Lets see our success rate\n",
    "\"\"\"\n",
    "games = 1000\n",
    "won = 0\n",
    "for _ in range(games):\n",
    "    state = game.reset()\n",
    "    while True:\n",
    "        action = int(policy[state])\n",
    "        (state,reward,is_done,_) = game.step(action)\n",
    "        if is_done:\n",
    "            if reward>0:\n",
    "                won+=1\n",
    "            game.close()\n",
    "            break\n",
    "            \n",
    "print(\"Success Rate : {}\".format(won/games))"
   ]
  },
  {
   "cell_type": "markdown",
   "metadata": {},
   "source": [
    "### This is the best anyone could get even if the env is deterministic"
   ]
  },
  {
   "cell_type": "code",
   "execution_count": null,
   "metadata": {
    "collapsed": true
   },
   "outputs": [],
   "source": []
  }
 ],
 "metadata": {
  "kernelspec": {
   "display_name": "Python 3",
   "language": "python",
   "name": "python3"
  },
  "language_info": {
   "codemirror_mode": {
    "name": "ipython",
    "version": 3
   },
   "file_extension": ".py",
   "mimetype": "text/x-python",
   "name": "python",
   "nbconvert_exporter": "python",
   "pygments_lexer": "ipython3",
   "version": "3.6.3"
  }
 },
 "nbformat": 4,
 "nbformat_minor": 2
}
