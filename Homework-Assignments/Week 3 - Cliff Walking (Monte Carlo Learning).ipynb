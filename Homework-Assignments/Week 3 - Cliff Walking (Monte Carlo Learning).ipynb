{
 "cells": [
  {
   "cell_type": "code",
   "execution_count": 1,
   "metadata": {},
   "outputs": [
    {
     "name": "stderr",
     "output_type": "stream",
     "text": [
      "/home/aditya/.conda/envs/py3k/lib/python3.6/site-packages/tqdm/autonotebook/__init__.py:14: TqdmExperimentalWarning: Using `tqdm.autonotebook.tqdm` in notebook mode. Use `tqdm.tqdm` instead to force console mode (e.g. in jupyter console)\n",
      "  \" (e.g. in jupyter console)\", TqdmExperimentalWarning)\n",
      "/home/aditya/.conda/envs/py3k/lib/python3.6/site-packages/gym/envs/registration.py:14: PkgResourcesDeprecationWarning: Parameters to load are deprecated.  Call .resolve and .require separately.\n",
      "  result = entry_point.load(False)\n"
     ]
    }
   ],
   "source": [
    "import numpy as np\n",
    "from tqdm.autonotebook import tqdm\n",
    "import gym\n",
    "import time\n",
    "%matplotlib inline\n",
    "import matplotlib.pyplot as plt\n",
    "\n",
    "env = gym.make(\"CliffWalking-v0\")\n",
    "policy_to_action = {0:'L',1:'D',2:'R',3:'U'}"
   ]
  },
  {
   "cell_type": "code",
   "execution_count": 2,
   "metadata": {
    "collapsed": true
   },
   "outputs": [],
   "source": [
    "GAMMA = 0.9\n",
    "\n",
    "def epsilon_greedy(a,env,eps=0.1):\n",
    "    p = np.random.random()\n",
    "    if p < 1-eps: #exploit\n",
    "        return a\n",
    "    else: #explore\n",
    "        return np.random.randint(0,env.nA)"
   ]
  },
  {
   "cell_type": "code",
   "execution_count": 3,
   "metadata": {
    "collapsed": true
   },
   "outputs": [],
   "source": [
    "def play_game(env,policy,EPSILON):\n",
    "    s = env.reset()\n",
    "    a = epsilon_greedy(policy[s],env,eps=EPSILON)\n",
    "    \n",
    "    #reward belong to one state and action before\n",
    "    state_action_reward = [(s,a,0)]\n",
    "    while True:\n",
    "        s,r,terminated,_ = env.step(a)\n",
    "        if terminated:\n",
    "            state_action_reward.append((s,None,r))\n",
    "            break\n",
    "        else:\n",
    "            a = epsilon_greedy(policy[s],env,eps=EPSILON)\n",
    "            state_action_reward.append((s,a,r))\n",
    "    G=0\n",
    "    state_action_return = []\n",
    "    first = True\n",
    "    for s,a,r in reversed(state_action_reward):\n",
    "        if first:\n",
    "            first=False\n",
    "        else:\n",
    "            state_action_return.append((s,a,G))\n",
    "            \n",
    "        G = r + GAMMA*G\n",
    "        state_action_return.reverse()\n",
    "    return state_action_return"
   ]
  },
  {
   "cell_type": "code",
   "execution_count": 4,
   "metadata": {
    "collapsed": true
   },
   "outputs": [],
   "source": [
    "def monte_carlo(env,EPSILON=0.5,N_EPISODES=10000):\n",
    "    policy = np.random.choice(env.nA,env.nS)\n",
    "    \n",
    "    Q = {}\n",
    "    visit = {}\n",
    "    for s in range(env.nS):\n",
    "        Q[s] = {}\n",
    "        visit[s] = {}\n",
    "        for a in range(env.nA):\n",
    "            Q[s][a] = 0\n",
    "            visit[s][a] = 0\n",
    "        \n",
    "    deltas = [] #keep track of learning curve\n",
    "    for i in tqdm(range(N_EPISODES),desc=\"Episodes Completed : \",leave=False):\n",
    "        \n",
    "        # epsilon decreasing\n",
    "        esp = max( 0.1, EPSILON - i/N_EPISODES )\n",
    "        \n",
    "        state_action_return = play_game(env,policy,esp)\n",
    "        seen_state_action = set()\n",
    "        biggest_change = 0\n",
    "        for s,a,G in state_action_return:\n",
    "            if (s,a) not in seen_state_action:\n",
    "                visit[s][a] += 1\n",
    "                oldq = Q[s][a]\n",
    "                #incremental mean\n",
    "                Q[s][a] = Q[s][a] + ( G - Q[s][a] )/visit[s][a]\n",
    "                seen_state_action.add((s,a))\n",
    "                biggest_change = max( biggest_change , np.abs(oldq - Q[s][a]) )\n",
    "        deltas.append(biggest_change)\n",
    "        \n",
    "        #update policy\n",
    "        for s in Q.keys():\n",
    "            best_a = None\n",
    "            best_G = float('-inf')\n",
    "            for a,G in Q[s].items():\n",
    "                if G > best_G:\n",
    "                    best_G = G\n",
    "                    best_a = a\n",
    "            policy[s] = best_a\n",
    "    \n",
    "    V = []\n",
    "    for s in Q.keys():\n",
    "        best_G = float('-inf')\n",
    "        for _,G in Q[s].items():\n",
    "            if G > best_G:\n",
    "                best_G = G\n",
    "        V.append(best_G)\n",
    "        \n",
    "    return V,policy,deltas"
   ]
  },
  {
   "cell_type": "code",
   "execution_count": 5,
   "metadata": {},
   "outputs": [
    {
     "data": {
      "application/vnd.jupyter.widget-view+json": {
       "model_id": "",
       "version_major": 2,
       "version_minor": 0
      },
      "text/plain": [
       "HBox(children=(IntProgress(value=0, description='Episodes Completed : ', max=500, style=ProgressStyle(descript…"
      ]
     },
     "metadata": {},
     "output_type": "display_data"
    },
    {
     "name": "stdout",
     "output_type": "stream",
     "text": [
      "\r",
      "TIME TAKEN 3.69962739944458 seconds\n",
      "Optimal Policy :\n",
      " [['D' 'D' 'D' 'D' 'D' 'D' 'D' 'D' 'D' 'D' 'R' 'R']\n",
      " ['L' 'U' 'L' 'L' 'L' 'U' 'D' 'L' 'L' 'D' 'D' 'R']\n",
      " ['L' 'L' 'L' 'L' 'L' 'L' 'L' 'L' 'L' 'L' 'D' 'R']\n",
      " ['L' 'L' 'L' 'L' 'L' 'L' 'L' 'L' 'L' 'L' 'L' 'L']] \n",
      "Optimal Values :\n",
      " [[-10.67512388 -10.63936957 -10.66033421 -10.64330446 -10.61002559\n",
      "   -9.50827446  -9.62956982  -8.87735505  -8.10635744  -7.39902218\n",
      "   -5.41334341  -8.6332385 ]\n",
      " [-11.34783495 -12.56723555 -12.15889066 -12.06805863 -12.44467464\n",
      "  -16.05251844 -20.96631634 -12.11171645 -13.42464636 -10.67585445\n",
      "   -4.60822475  -3.13008451]\n",
      " [-10.83744864 -18.37562518 -16.30524613 -14.89104288 -18.32040585\n",
      "  -17.88696508 -28.47995961 -17.65686127 -20.3641596  -16.26212317\n",
      "  -11.19243557  -1.        ]\n",
      " [-12.94485831   0.           0.           0.           0.           0.\n",
      "    0.           0.           0.           0.           0.           0.        ]]\n"
     ]
    },
    {
     "data": {
      "image/png": "[encoded data removed]",
      "text/plain": [
       "<matplotlib.figure.Figure at 0x7f8be4d6c5f8>"
      ]
     },
     "metadata": {},
     "output_type": "display_data"
    }
   ],
   "source": [
    "start = time.time()\n",
    "value,policy,Delta = monte_carlo(env,EPSILON=.7,N_EPISODES=500)\n",
    "print('TIME TAKEN {} seconds'.format(time.time()-start))\n",
    "\n",
    "gpolicy = list(map(lambda a: policy_to_action[a],policy))\n",
    "print(\"Optimal Policy :\\n {} \".format(np.reshape(gpolicy,(4,12))))\n",
    "print(\"Optimal Values :\\n {}\".format(np.reshape(value,(4,12))))\n",
    "\n",
    "plt.plot(Delta)\n",
    "plt.show()"
   ]
  },
  {
   "cell_type": "code",
   "execution_count": 6,
   "metadata": {},
   "outputs": [
    {
     "data": {
      "application/vnd.jupyter.widget-view+json": {
       "model_id": "fab445153f5d403ba72e015bd68191b4",
       "version_major": 2,
       "version_minor": 0
      },
      "text/plain": [
       "HBox(children=(IntProgress(value=0, description='Games Played : ', max=1000, style=ProgressStyle(description_w…"
      ]
     },
     "metadata": {},
     "output_type": "display_data"
    },
    {
     "name": "stdout",
     "output_type": "stream",
     "text": [
      "\n",
      "Success Rate : -17.0\n"
     ]
    }
   ],
   "source": [
    "\"\"\"\n",
    "Lets see our success rate\n",
    "\"\"\"\n",
    "games = 1000\n",
    "total_reward = 0\n",
    "for _ in tqdm(range(games),desc=\"Games Played : \"):\n",
    "    state = env.reset()\n",
    "    rewards = 0\n",
    "    while True:\n",
    "        action = int(policy[state])\n",
    "        (state,reward,is_done,_) = env.step(action)\n",
    "        rewards+=reward\n",
    "        if is_done:\n",
    "            total_reward+=rewards\n",
    "            env.close()\n",
    "            break\n",
    "            \n",
    "print(\"Success Rate : {}\".format(total_reward/games))"
   ]
  },
  {
   "cell_type": "code",
   "execution_count": null,
   "metadata": {
    "collapsed": true
   },
   "outputs": [],
   "source": []
  }
 ],
 "metadata": {
  "language_info": {
   "codemirror_mode": {
    "name": "ipython",
    "version": 3
   },
   "file_extension": ".py",
   "mimetype": "text/x-python",
   "name": "python",
   "nbconvert_exporter": "python",
   "pygments_lexer": "ipython3",
   "version": "3.6.3"
  }
 },
 "nbformat": 4,
 "nbformat_minor": 2
}
