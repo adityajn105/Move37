{
 "cells": [
  {
   "cell_type": "code",
   "execution_count": 1,
   "metadata": {},
   "outputs": [
    {
     "name": "stderr",
     "output_type": "stream",
     "text": [
      "/home/aditya/.conda/envs/py3k/lib/python3.6/site-packages/tqdm/autonotebook/__init__.py:14: TqdmExperimentalWarning: Using `tqdm.autonotebook.tqdm` in notebook mode. Use `tqdm.tqdm` instead to force console mode (e.g. in jupyter console)\n",
      "  \" (e.g. in jupyter console)\", TqdmExperimentalWarning)\n",
      "/home/aditya/.conda/envs/py3k/lib/python3.6/site-packages/gym/envs/registration.py:14: PkgResourcesDeprecationWarning: Parameters to load are deprecated.  Call .resolve and .require separately.\n",
      "  result = entry_point.load(False)\n"
     ]
    }
   ],
   "source": [
    "import numpy as np\n",
    "from tqdm.autonotebook import tqdm\n",
    "import gym\n",
    "import time\n",
    "%matplotlib inline\n",
    "import matplotlib.pyplot as plt\n",
    "\n",
    "env = gym.make(\"CliffWalking-v0\")\n",
    "policy_to_action = {0:'L',1:'D',2:'R',3:'U'}"
   ]
  },
  {
   "cell_type": "code",
   "execution_count": 2,
   "metadata": {},
   "outputs": [],
   "source": [
    "GAMMA = 0.9\n",
    "\n",
    "def epsilon_greedy(a,env,eps=0.1):\n",
    "    p = np.random.random()\n",
    "    if p < 1-eps: #exploit\n",
    "        return a\n",
    "    else: #explore\n",
    "        return np.random.randint(0,env.nA)"
   ]
  },
  {
   "cell_type": "code",
   "execution_count": 3,
   "metadata": {},
   "outputs": [],
   "source": [
    "def play_game(env,policy,EPSILON):\n",
    "    s = env.reset()\n",
    "    a = epsilon_greedy(policy[s],env,eps=EPSILON)\n",
    "    \n",
    "    #reward belong to one state and action before\n",
    "    state_action_reward = [(s,a,0)]\n",
    "    while True:\n",
    "        s,r,terminated,_ = env.step(a)\n",
    "        if terminated:\n",
    "            state_action_reward.append((s,None,r))\n",
    "            break\n",
    "        else:\n",
    "            a = epsilon_greedy(policy[s],env,eps=EPSILON)\n",
    "            state_action_reward.append((s,a,r))\n",
    "    G=0\n",
    "    state_action_return = []\n",
    "    first = True\n",
    "    for s,a,r in reversed(state_action_reward):\n",
    "        if first:\n",
    "            first=False\n",
    "        else:\n",
    "            state_action_return.append((s,a,G))\n",
    "            \n",
    "        G = r + GAMMA*G\n",
    "        state_action_return.reverse()\n",
    "    return state_action_return"
   ]
  },
  {
   "cell_type": "code",
   "execution_count": 4,
   "metadata": {
    "collapsed": true
   },
   "outputs": [],
   "source": [
    "def monte_carlo(env,EPSILON=0.5,N_EPISODES=10000):\n",
    "    policy = np.random.choice(env.nA,env.nS)\n",
    "    \n",
    "    Q = {}\n",
    "    visit = {}\n",
    "    for s in range(env.nS):\n",
    "        Q[s] = {}\n",
    "        visit[s] = {}\n",
    "        for a in range(env.nA):\n",
    "            Q[s][a] = 0\n",
    "            visit[s][a] = 0\n",
    "        \n",
    "    deltas = [] #keep track of learning curve\n",
    "    for i in tqdm(range(N_EPISODES),desc=\"Episodes Completed : \",leave=False):\n",
    "        \n",
    "        # epsilon decreasing\n",
    "        esp = max( 0.1, EPSILON - i/N_EPISODES )\n",
    "        \n",
    "        state_action_return = play_game(env,policy,esp)\n",
    "        seen_state_action = set()\n",
    "        biggest_change = 0\n",
    "        for s,a,G in state_action_return:\n",
    "            if (s,a) not in seen_state_action:\n",
    "                visit[s][a] += 1\n",
    "                oldq = Q[s][a]\n",
    "                #incremental mean\n",
    "                Q[s][a] = Q[s][a] + ( G - Q[s][a] )/visit[s][a]\n",
    "                seen_state_action.add((s,a))\n",
    "                biggest_change = max( biggest_change , np.abs(oldq - Q[s][a]) )\n",
    "        deltas.append(biggest_change)\n",
    "        \n",
    "        #update policy\n",
    "        for s in Q.keys():\n",
    "            best_a = None\n",
    "            best_G = float('-inf')\n",
    "            for a,G in Q[s].items():\n",
    "                if G > best_G:\n",
    "                    best_G = G\n",
    "                    best_a = a\n",
    "            policy[s] = best_a\n",
    "    \n",
    "    V = []\n",
    "    for s in Q.keys():\n",
    "        best_G = float('-inf')\n",
    "        for _,G in Q[s].items():\n",
    "            if G > best_G:\n",
    "                best_G = G\n",
    "        V.append(best_G)\n",
    "        \n",
    "    return V,policy,deltas"
   ]
  },
  {
   "cell_type": "code",
   "execution_count": 5,
   "metadata": {},
   "outputs": [
    {
     "data": {
      "application/vnd.jupyter.widget-view+json": {
       "model_id": "",
       "version_major": 2,
       "version_minor": 0
      },
      "text/plain": [
       "HBox(children=(IntProgress(value=0, description='Episodes Completed : ', max=500, style=ProgressStyle(descript…"
      ]
     },
     "metadata": {},
     "output_type": "display_data"
    },
    {
     "name": "stdout",
     "output_type": "stream",
     "text": [
      "\r",
      "TIME TAKEN 7.586687803268433 seconds\n",
      "Optimal Policy :\n",
      " [['D' 'D' 'D' 'D' 'D' 'D' 'D' 'D' 'D' 'D' 'D' 'R']\n",
      " ['L' 'L' 'L' 'D' 'L' 'L' 'L' 'D' 'L' 'L' 'D' 'R']\n",
      " ['L' 'L' 'L' 'L' 'L' 'L' 'L' 'L' 'L' 'L' 'L' 'R']\n",
      " ['L' 'L' 'L' 'L' 'L' 'L' 'L' 'L' 'L' 'L' 'L' 'L']] \n",
      "Optimal Values :\n",
      " [[-10.51172755 -10.12142203 -10.19063808  -9.99764054  -9.88238431\n",
      "   -9.1037274   -8.33741848  -7.68319401  -6.6558665   -5.85619036\n",
      "   -4.9396196   -4.32364301]\n",
      " [-10.72350038 -12.15932514 -12.71769386 -14.29450294 -12.24497445\n",
      "  -13.15236414 -13.59501716 -15.23572686 -12.19390585  -9.99433443\n",
      "   -4.83394738  -3.02662872]\n",
      " [-10.91994612 -13.47959717 -19.78485739 -18.76748946 -17.57410987\n",
      "  -22.56072454 -25.21178049 -20.31700509 -34.43280302 -21.95728958\n",
      "   -6.19423264  -1.        ]\n",
      " [-12.42235018   0.           0.           0.           0.           0.\n",
      "    0.           0.           0.           0.           0.           0.        ]]\n"
     ]
    },
    {
     "data": {
      "image/png": "[encoded data removed]",
      "text/plain": [
       "<matplotlib.figure.Figure at 0x7f63ade34780>"
      ]
     },
     "metadata": {},
     "output_type": "display_data"
    }
   ],
   "source": [
    "start = time.time()\n",
    "value,policy,Delta = monte_carlo(env,EPSILON=.7,N_EPISODES=500)\n",
    "print('TIME TAKEN {} seconds'.format(time.time()-start))\n",
    "\n",
    "gpolicy = list(map(lambda a: policy_to_action[a],policy))\n",
    "print(\"Optimal Policy :\\n {} \".format(np.reshape(gpolicy,(4,12))))\n",
    "print(\"Optimal Values :\\n {}\".format(np.reshape(value,(4,12))))\n",
    "\n",
    "plt.plot(Delta)\n",
    "plt.show()"
   ]
  },
  {
   "cell_type": "code",
   "execution_count": 6,
   "metadata": {},
   "outputs": [
    {
     "data": {
      "application/vnd.jupyter.widget-view+json": {
       "model_id": "3eebba3559674bbfb0967b0129966af5",
       "version_major": 2,
       "version_minor": 0
      },
      "text/plain": [
       "HBox(children=(IntProgress(value=0, description='Games Played : ', max=1000, style=ProgressStyle(description_w…"
      ]
     },
     "metadata": {},
     "output_type": "display_data"
    },
    {
     "name": "stdout",
     "output_type": "stream",
     "text": [
      "\n",
      "Success Rate : -17.0\n"
     ]
    }
   ],
   "source": [
    "\"\"\"\n",
    "Lets see our success rate\n",
    "\"\"\"\n",
    "games = 1000\n",
    "total_reward = 0\n",
    "for _ in tqdm(range(games),desc=\"Games Played : \"):\n",
    "    state = env.reset()\n",
    "    rewards = 0\n",
    "    while True:\n",
    "        action = int(policy[state])\n",
    "        (state,reward,is_done,_) = env.step(action)\n",
    "        rewards+=reward\n",
    "        if is_done:\n",
    "            total_reward+=rewards\n",
    "            env.close()\n",
    "            break\n",
    "            \n",
    "print(\"Success Rate : {}\".format(total_reward/games))"
   ]
  },
  {
   "cell_type": "code",
   "execution_count": null,
   "metadata": {
    "collapsed": true
   },
   "outputs": [],
   "source": []
  }
 ],
 "metadata": {
  "kernelspec": {
   "display_name": "Python 3",
   "language": "python",
   "name": "python3"
  },
  "language_info": {
   "codemirror_mode": {
    "name": "ipython",
    "version": 3
   },
   "file_extension": ".py",
   "mimetype": "text/x-python",
   "name": "python",
   "nbconvert_exporter": "python",
   "pygments_lexer": "ipython3",
   "version": "3.6.3"
  }
 },
 "nbformat": 4,
 "nbformat_minor": 2
}
