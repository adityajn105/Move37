{
 "cells": [
  {
   "cell_type": "markdown",
   "metadata": {},
   "source": [
    "1. pip install gym\n",
    "2. pip install torch torchvision\n",
    "3. pip install box2d-py\n",
    "4. pip install atari-py"
   ]
  },
  {
   "cell_type": "code",
   "execution_count": 16,
   "metadata": {},
   "outputs": [
    {
     "name": "stderr",
     "output_type": "stream",
     "text": [
      "/home/aditya/.conda/envs/py3k/lib/python3.6/site-packages/gym/envs/registration.py:14: PkgResourcesDeprecationWarning: Parameters to load are deprecated.  Call .resolve and .require separately.\n",
      "  result = entry_point.load(False)\n"
     ]
    }
   ],
   "source": [
    "import numpy as np\n",
    "import gym\n",
    "import numpy as np\n",
    "\n",
    "env = gym.make('LunarLander-v2')"
   ]
  },
  {
   "cell_type": "code",
   "execution_count": 35,
   "metadata": {},
   "outputs": [],
   "source": [
    "import torch\n",
    "import torch.nn as nn\n",
    "class DQN(nn.Module):\n",
    "    def __init__(self, in_features, n_actions):\n",
    "        super(DQN,self).__init__()\n",
    "        self.model = nn.Sequential(\n",
    "            nn.Linear(in_features,256),\n",
    "            nn.ReLU(),\n",
    "            nn.Linear(256,128),\n",
    "            nn.ReLU(),\n",
    "            nn.Linear(128,64),\n",
    "            nn.ReLU(),\n",
    "            nn.Linear(64,n_actions)\n",
    "        )\n",
    "        \n",
    "    def forward(self,x):\n",
    "        return self.model(x.float())"
   ]
  },
  {
   "cell_type": "code",
   "execution_count": 36,
   "metadata": {
    "collapsed": true
   },
   "outputs": [],
   "source": [
    "import collections\n",
    "class ExperienceBuffer():\n",
    "    def __init__(self,capacity):\n",
    "        self.exp_buffer = collections.deque(maxlen=capacity)\n",
    "        \n",
    "    def append(self,exp):\n",
    "        self.exp_buffer.append(exp)\n",
    "    \n",
    "    def __len__(self):\n",
    "        return len(self.exp_buffer)\n",
    "    \n",
    "    def clear(self):\n",
    "        self.exp_buffer.clear()\n",
    "        \n",
    "    def sample(self,batch_size):\n",
    "        indices = np.random.choice( range(len(self.exp_buffer)), batch_size )\n",
    "        states,actions,rewards,dones,next_states = zip(*[self.exp_buffer[i] for i in indices])\n",
    "        return np.array(states),np.array(actions),np.array(rewards),np.array(dones),np.array(next_states)"
   ]
  },
  {
   "cell_type": "code",
   "execution_count": 64,
   "metadata": {
    "collapsed": true
   },
   "outputs": [],
   "source": [
    "class Agent():\n",
    "    def __init__(self,env,buffer):\n",
    "        self.env = env\n",
    "        self.buffer = buffer\n",
    "        self._reset()\n",
    "        \n",
    "    def _reset(self):\n",
    "        self.state = env.reset()\n",
    "        self.total_rewards = 0.0\n",
    "    \n",
    "    def step(self, net, eps, device=\"cpu\"):\n",
    "        done_reward= None\n",
    "        if np.random.random() < eps:\n",
    "            action = env.action_space.sample()\n",
    "        else:\n",
    "            state_prev = torch.tensor(self.state)\n",
    "            action = int(torch.argmax(net(state_prev).to(device)))\n",
    "            \n",
    "        state_prev = self.state\n",
    "        self.state,reward,done,info = env.step(action)\n",
    "        self.total_rewards+=reward\n",
    "        \n",
    "        self.buffer.append((state_prev,action,reward,done,self.state))\n",
    "        if done:\n",
    "            done_reward = self.total_rewards\n",
    "            self._reset()\n",
    "        return done_reward"
   ]
  },
  {
   "cell_type": "code",
   "execution_count": null,
   "metadata": {
    "collapsed": true
   },
   "outputs": [],
   "source": []
  }
 ],
 "metadata": {
  "kernelspec": {
   "display_name": "Python 3",
   "language": "python",
   "name": "python3"
  },
  "language_info": {
   "codemirror_mode": {
    "name": "ipython",
    "version": 3
   },
   "file_extension": ".py",
   "mimetype": "text/x-python",
   "name": "python",
   "nbconvert_exporter": "python",
   "pygments_lexer": "ipython3",
   "version": "3.6.3"
  }
 },
 "nbformat": 4,
 "nbformat_minor": 2
}
