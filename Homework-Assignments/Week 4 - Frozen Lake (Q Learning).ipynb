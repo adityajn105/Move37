{
 "cells": [
  {
   "cell_type": "code",
   "execution_count": 1,
   "metadata": {},
   "outputs": [],
   "source": [
    "import warnings\n",
    "warnings.filterwarnings('ignore')\n",
    "\n",
    "import numpy as np\n",
    "from tqdm.autonotebook import tqdm\n",
    "import gym\n",
    "import time\n",
    "\n",
    "%matplotlib inline\n",
    "import matplotlib.pyplot as plt"
   ]
  },
  {
   "cell_type": "code",
   "execution_count": 2,
   "metadata": {},
   "outputs": [],
   "source": [
    "def moving_average(values, n=100) :\n",
    "    ret = np.cumsum(values, dtype=float)\n",
    "    ret[n:] = ret[n:] - ret[:-n]\n",
    "    return ret[n - 1:] / n"
   ]
  },
  {
   "cell_type": "code",
   "execution_count": 3,
   "metadata": {},
   "outputs": [],
   "source": [
    "env = gym.make('FrozenLake-v0')\n",
    "policy_to_action = {0:\"L\",1:\"D\",2:\"R\",3:\"U\"}"
   ]
  },
  {
   "cell_type": "code",
   "execution_count": 4,
   "metadata": {},
   "outputs": [],
   "source": [
    "ACTION_DIM = env.action_space.n\n",
    "MAX_STEPS = env.spec.max_episode_steps\n",
    "STATE_DIM = env.observation_space.n\n",
    "NUM_EPISODES = 1000000\n",
    "START_ALPHA = 0.1\n",
    "ALPHA_TAPER = 0.01\n",
    "START_EPSILON = 1\n",
    "EPSILON_TAPER = 0.0001\n",
    "GAMMA = 0.9"
   ]
  },
  {
   "cell_type": "code",
   "execution_count": 5,
   "metadata": {},
   "outputs": [],
   "source": [
    "Q = np.zeros((STATE_DIM,ACTION_DIM),dtype=np.float64)\n",
    "state_visits_count = {}\n",
    "update_counts = np.zeros((STATE_DIM,ACTION_DIM),dtype=np.int64)\n",
    "def updateQ( prev_state,action,reward,cur_state):\n",
    "    alpha = START_ALPHA / ( 1 + update_counts[prev_state][action]*ALPHA_TAPER )\n",
    "    update_counts[prev_state][action] += 1\n",
    "    Q[prev_state][action] += alpha * ( reward + GAMMA * np.max(Q[cur_state]) - Q[prev_state][action] )\n",
    "    \n",
    "def epsilon_greedy(s,eps=START_EPSILON):\n",
    "    if np.random.random() > 1-eps:\n",
    "        return np.argmax(Q[s])\n",
    "    else:\n",
    "        return env.action_space.sample()"
   ]
  },
  {
   "cell_type": "code",
   "execution_count": 6,
   "metadata": {},
   "outputs": [
    {
     "data": {
      "application/vnd.jupyter.widget-view+json": {
       "model_id": "c6f04f62b4bc470db2109ec900de7c30",
       "version_major": 2,
       "version_minor": 0
      },
      "text/plain": [
       "HBox(children=(IntProgress(value=0, description='Progress : ', max=1000000), HTML(value='')))"
      ]
     },
     "metadata": {},
     "output_type": "display_data"
    },
    {
     "name": "stdout",
     "output_type": "stream",
     "text": [
      "EPISODES : 0 | AVG_REWARD : 0.0 | EPSILON : 1.0\n",
      "EPISODES : 100000 | AVG_REWARD : 0.02528 | EPSILON : 0.09090909090909091\n",
      "EPISODES : 200000 | AVG_REWARD : 0.01686 | EPSILON : 0.047619047619047616\n",
      "EPISODES : 300000 | AVG_REWARD : 0.01593 | EPSILON : 0.03225806451612903\n",
      "EPISODES : 400000 | AVG_REWARD : 0.01513 | EPSILON : 0.024390243902439025\n",
      "EPISODES : 500000 | AVG_REWARD : 0.01556 | EPSILON : 0.0196078431372549\n",
      "EPISODES : 600000 | AVG_REWARD : 0.01479 | EPSILON : 0.01639344262295082\n",
      "EPISODES : 700000 | AVG_REWARD : 0.01429 | EPSILON : 0.014084507042253521\n",
      "EPISODES : 800000 | AVG_REWARD : 0.0146 | EPSILON : 0.012345679012345678\n",
      "EPISODES : 900000 | AVG_REWARD : 0.01432 | EPSILON : 0.01098901098901099\n",
      "\n",
      "EACH STATE WAS VISITED 720285.6363636364 TIMES ON AN AVERAGE\n",
      "TIME TAKEN 377.6350088119507 \n",
      "Optimal Policy :\n",
      " [['L' 'U' 'L' 'U']\n",
      " ['L' 'L' 'L' 'L']\n",
      " ['U' 'D' 'L' 'L']\n",
      " ['L' 'R' 'D' 'L']] \n",
      "Optimal Values :\n",
      " [[0.06974745 0.06229239 0.07561941 0.05673794]\n",
      " [0.09303173 0.         0.11284137 0.        ]\n",
      " [0.14676549 0.24786467 0.29809965 0.        ]\n",
      " [0.         0.38004726 0.63728795 0.        ]]\n"
     ]
    },
    {
     "data": {
      "image/png": "[encoded data removed]",
      "text/plain": [
       "<Figure size 432x288 with 1 Axes>"
      ]
     },
     "metadata": {
      "needs_background": "light"
     },
     "output_type": "display_data"
    }
   ],
   "source": [
    "total_rewards = 0 \n",
    "deltas = []\n",
    "verbose = True\n",
    "\n",
    "start = time.time()\n",
    "\n",
    "for episode in tqdm(range(NUM_EPISODES),desc = \"Progress : \"):\n",
    "    eps = START_EPSILON / ( 1.0 + EPSILON_TAPER * episode )\n",
    "    if verbose and episode % (NUM_EPISODES/10) == 0:\n",
    "        print(\"EPISODES : {} | AVG_REWARD : {} | EPSILON : {}\".format(episode,total_rewards/(NUM_EPISODES/10),eps))\n",
    "        total_rewards=0\n",
    "    \n",
    "    biggest_change = 0\n",
    "    curr_state = env.reset()\n",
    "    for _ in range(MAX_STEPS):\n",
    "        action = epsilon_greedy(curr_state,eps=eps)\n",
    "        state_visits_count[curr_state] = state_visits_count.get(curr_state,0)+1\n",
    "        prev_state = curr_state\n",
    "        curr_state, reward, done, _ = env.step(action)\n",
    "        total_rewards += reward\n",
    "        oldq = Q[prev_state][action]\n",
    "        updateQ(prev_state,action,reward,curr_state)\n",
    "        biggest_change = max( biggest_change , np.abs( oldq - Q[prev_state][action] ))\n",
    "        if done:\n",
    "            break\n",
    "    deltas.append(biggest_change)\n",
    "\n",
    "mean_state_visit = np.mean( list(state_visits_count.values()) )\n",
    "print('EACH STATE WAS VISITED {} TIMES ON AN AVERAGE'.format( mean_state_visit ))\n",
    "\n",
    "Value_F = np.zeros(STATE_DIM)\n",
    "Policy_F = np.zeros(STATE_DIM)\n",
    "for s in range(STATE_DIM):\n",
    "    Value_F[s] = np.max(Q[s])\n",
    "    Policy_F[s] = np.argmax(Q[s])\n",
    "\n",
    "print(\"TIME TAKEN {} \".format(time.time()-start))\n",
    "    \n",
    "gpolicy = list(map(lambda a: policy_to_action[a],Policy_F))\n",
    "print(\"Optimal Policy :\\n {} \".format(np.reshape(gpolicy,(int(np.sqrt(STATE_DIM)),int(np.sqrt(STATE_DIM))))))\n",
    "print(\"Optimal Values :\\n {}\".format(np.reshape(Value_F,(int(np.sqrt(STATE_DIM)),int(np.sqrt(STATE_DIM))))))\n",
    "\n",
    "plt.plot(moving_average(deltas,n=10000))\n",
    "plt.show()"
   ]
  },
  {
   "cell_type": "code",
   "execution_count": 7,
   "metadata": {},
   "outputs": [
    {
     "name": "stdout",
     "output_type": "stream",
     "text": [
      "Success Rate : 0.723\n"
     ]
    }
   ],
   "source": [
    "\"\"\"\n",
    "Lets see our success rate\n",
    "\"\"\"\n",
    "games = 1000\n",
    "won = 0\n",
    "for _ in range(games):\n",
    "    state = env.reset()\n",
    "    while True:\n",
    "        action = int(Policy_F[state])\n",
    "        (state,reward,is_done,_) = env.step(action)\n",
    "        if is_done:\n",
    "            if reward>0:\n",
    "                won+=1\n",
    "            env.close()\n",
    "            break\n",
    "            \n",
    "print(\"Success Rate : {}\".format(won/games))"
   ]
  },
  {
   "cell_type": "code",
   "execution_count": null,
   "metadata": {},
   "outputs": [],
   "source": []
  }
 ],
 "metadata": {
  "kernelspec": {
   "display_name": "Python 3",
   "language": "python",
   "name": "python3"
  },
  "language_info": {
   "codemirror_mode": {
    "name": "ipython",
    "version": 3
   },
   "file_extension": ".py",
   "mimetype": "text/x-python",
   "name": "python",
   "nbconvert_exporter": "python",
   "pygments_lexer": "ipython3",
   "version": "3.7.0"
  }
 },
 "nbformat": 4,
 "nbformat_minor": 2
}
