{
 "cells": [
  {
   "cell_type": "code",
   "execution_count": 1,
   "metadata": {
    "collapsed": true
   },
   "outputs": [],
   "source": [
    "import numpy as np\n",
    "from tqdm import tqdm"
   ]
  },
  {
   "cell_type": "code",
   "execution_count": 2,
   "metadata": {
    "collapsed": true
   },
   "outputs": [],
   "source": [
    "\"\"\"\n",
    "Our Grid Object\n",
    "\"\"\"\n",
    "class Grid:\n",
    "    def __init__(self,width,height,start):\n",
    "        self.width = width\n",
    "        self.height = height\n",
    "        self.i = start[0] #vertical axis\n",
    "        self.j = start[1] #horizontal axis\n",
    "    \n",
    "    def set(self,actions,rewards,obey_prob):\n",
    "        self.actions = actions # dict:  (row,col): list of actions\n",
    "        self.rewards = rewards # dict:  (row,col):  reward\n",
    "        self.obey_prob = obey_prob\n",
    "    \n",
    "    def non_terminal_states(self):\n",
    "        return self.actions.keys()\n",
    "    \n",
    "    def set_state(self,s):\n",
    "        #change current stae\n",
    "        self.i = s[0]\n",
    "        self.j = s[1]\n",
    "    \n",
    "    def current_state(self):\n",
    "        return (self.i,self.j)\n",
    "    \n",
    "    def is_terminal(self,s):\n",
    "        return s not in self.actions\n",
    "    \n",
    "    def stochastic_move(self, action):\n",
    "        p = np.random.random()\n",
    "        if p <= self.obey_prob:\n",
    "            return action\n",
    "        if action == 'U' or action == 'D':\n",
    "            return np.random.choice(['L', 'R'])\n",
    "        elif action == 'L' or action == 'R':\n",
    "            return np.random.choice(['U', 'D'])\n",
    "    \n",
    "    def move(self,action):\n",
    "        actual_action = self.stochastic_move(action)\n",
    "        if actual_action in self.actions[(self.i, self.j)]:\n",
    "            if actual_action == 'U':\n",
    "                self.i -= 1\n",
    "            elif actual_action == 'D':\n",
    "                self.i += 1\n",
    "            elif actual_action == 'R':\n",
    "                self.j += 1\n",
    "            elif actual_action == 'L':\n",
    "                self.j -= 1\n",
    "        return self.rewards.get((self.i, self.j), 0)\n",
    "    \n",
    "    def check_move(self,action):\n",
    "        i = self.i\n",
    "        j = self.j\n",
    "        #check move validity\n",
    "        if action in self.actions[(i,j)]:\n",
    "            if action == \"U\":\n",
    "                i-=1\n",
    "            elif action == \"D\":\n",
    "                i+=1\n",
    "            elif action == \"R\":\n",
    "                j+=1\n",
    "            elif action == \"L\":\n",
    "                j-=1\n",
    "                \n",
    "        reward = self.rewards.get((i,j),0)\n",
    "        return ((i,j),reward)\n",
    "    \n",
    "    def get_transition_probs(self,action):\n",
    "        # returns a list of (probability, reward, s') transition tuples\n",
    "        probs = []\n",
    "        state, reward = self.check_move(action)\n",
    "        probs.append((self.obey_prob,reward,state))\n",
    "        \n",
    "        \"\"\"\n",
    "        if obey prob is 0.8\n",
    "        and if action is 'up' then \n",
    "        'up' has probabiltiy of 0.8\n",
    "        'left' has probability of 0.1\n",
    "        'right' has probability of 0.1\n",
    "        \"\"\"\n",
    "        disobey_prob = 1-self.obey_prob\n",
    "        if disobey_prob <= 0:\n",
    "            return probs\n",
    "        if action == \"U\" or action == \"D\":\n",
    "            state, reward = self.check_move(\"L\")\n",
    "            probs.append((disobey_prob/2,reward,state))\n",
    "            state, reward = self.check_move(\"R\")\n",
    "            probs.append((disobey_prob/2,reward,state))\n",
    "        elif action == \"L\" or action == \"R\":\n",
    "            state, reward = self.check_move(\"U\")\n",
    "            probs.append((disobey_prob/2,reward,state))\n",
    "            state,reward = self.check_move(\"D\")\n",
    "            probs.append((disobey_prob/2,reward,state))\n",
    "        return probs\n",
    "    \n",
    "    def game_over(self):\n",
    "        #return True if game is over else False\n",
    "        #true if we are in state where no action are possible\n",
    "        return (self.i,self.j) not in self.actions.keys()\n",
    "    \n",
    "    def all_states(self):\n",
    "        # get all states\n",
    "        # either a position that has possible next actions\n",
    "        # or a position that yields a reward\n",
    "        return set(self.actions.keys()) | set(self.rewards.keys())"
   ]
  },
  {
   "cell_type": "code",
   "execution_count": 3,
   "metadata": {
    "collapsed": true
   },
   "outputs": [],
   "source": [
    "\"\"\"\n",
    "Initialization of Grid\n",
    "\"\"\"\n",
    "def standard_grid(obey_prob=0.1, step_cost = None):\n",
    "    # lets define a grid that describes the reward for getting into each state\n",
    "    # and possible actions at each state\n",
    "    # the grid looks like this\n",
    "    # x means you can't go there\n",
    "    # s means start position\n",
    "    # number means reward at that state\n",
    "    # .  .  .  1\n",
    "    # .  x  . -1\n",
    "    # s  .  .  .\n",
    "    # obey_brob (float): the probability of obeying the command\n",
    "    # step_cost (float): a penalty applied each step to minimize the number of moves (-0.1)\n",
    "    g = Grid(3, 4, (2, 0))\n",
    "    \n",
    "    rewards = {(0,3):+1, (1,3):-1}\n",
    "    start = (2,0)\n",
    "    actions = {\n",
    "        (0,0) : [\"R\",\"D\"],\n",
    "        (0,1) : [\"L\",\"R\"],\n",
    "        (0,2) : [\"L\",\"D\",\"R\"],\n",
    "        (1,0) : [\"U\",\"D\"],\n",
    "        (1,2) : [\"U\",\"D\",\"R\"],\n",
    "        (2,0) : [\"U\",\"R\"],\n",
    "        (2,1) : [\"L\",\"R\"],\n",
    "        (2,2) : [\"L\",\"U\",\"R\"],\n",
    "        (2,3) : [\"L\",\"U\"]\n",
    "    }\n",
    "    \n",
    "    g.set(actions,rewards,obey_prob)\n",
    "    if step_cost is not None:\n",
    "        g.rewards.update({\n",
    "          (0, 0): step_cost,\n",
    "          (0, 1): step_cost,\n",
    "          (0, 2): step_cost,\n",
    "          (1, 0): step_cost,\n",
    "          (1, 2): step_cost,\n",
    "          (2, 0): step_cost,\n",
    "          (2, 1): step_cost,\n",
    "          (2, 2): step_cost,\n",
    "          (2, 3): step_cost,\n",
    "        })\n",
    "    return g"
   ]
  },
  {
   "cell_type": "code",
   "execution_count": 4,
   "metadata": {
    "collapsed": true
   },
   "outputs": [],
   "source": [
    "\"\"\"\n",
    "Displaying Results\n",
    "\"\"\"\n",
    "def print_values(V, g):\n",
    "    for i in range(g.width):\n",
    "        print(\"---------------------------\")\n",
    "        for j in range(g.height):\n",
    "            v = V.get((i,j), 0)\n",
    "            if v >= 0:\n",
    "                print(\" %.2f|\" % v, end=\"\")\n",
    "            else:\n",
    "                print(\"%.2f|\" % v, end=\"\") # -ve sign takes up an extra space\n",
    "        print(\"\")\n",
    "\n",
    "def print_policy(P, g):\n",
    "    for i in range(g.width):\n",
    "        print(\"---------------------------\")\n",
    "        for j in range(g.height):\n",
    "            a = P.get((i,j), ' ')\n",
    "            print(\"  %s  |\" % a, end=\"\")\n",
    "        print(\"\")"
   ]
  },
  {
   "cell_type": "code",
   "execution_count": 5,
   "metadata": {
    "collapsed": true
   },
   "outputs": [],
   "source": [
    "GAMMA = 0.9\n",
    "EPSILON = 0.2\n",
    "ALL_POSSIBLE_ACTIONS = [\"U\",\"D\",\"R\",\"L\"]\n",
    "N_EPISODES = 10000"
   ]
  },
  {
   "cell_type": "code",
   "execution_count": 6,
   "metadata": {
    "collapsed": true
   },
   "outputs": [],
   "source": [
    "def epsilon_action(a,eps=0.1):\n",
    "    p = np.random.random()\n",
    "    if p < 1-eps:\n",
    "        return a\n",
    "    else:\n",
    "        return np.random.choice(ALL_POSSIBLE_ACTIONS)"
   ]
  },
  {
   "cell_type": "code",
   "execution_count": 7,
   "metadata": {
    "collapsed": true
   },
   "outputs": [],
   "source": [
    "def play_game(grid,policy):\n",
    "    \"\"\"return a list of states and corresponding returns (s,G)\"\"\"\n",
    "    s = (2,0)\n",
    "    grid.set_state(s)\n",
    "    a = epsilon_action(policy[s],EPSILON)\n",
    "    \n",
    "    #reward is lagged by one time\n",
    "    #r(t) results from a(t-1) in s(t-1) and landing in s(t)\n",
    "    state_action_rewards = [(s,a,0)]\n",
    "    while True:\n",
    "        r = grid.move(a)\n",
    "        s = grid.current_state()\n",
    "        if grid.game_over():\n",
    "            state_action_rewards.append((s,None,r))\n",
    "            break\n",
    "        else:\n",
    "            a = epsilon_action(a,EPSILON)\n",
    "            state_action_rewards.append((s,a,r))\n",
    "            \n",
    "    #calculate returns by working backwards from terminal state\n",
    "    G= 0 \n",
    "    states_actions_returns = []\n",
    "    first = True\n",
    "    for s,a,r in reversed(state_action_rewards):\n",
    "        # a terminal state has a value 0 by defination\n",
    "        # this will be the first when we encounter reversed list\n",
    "        # we will ignore its return G since it is not correspond to any one\n",
    "        if first:\n",
    "            first = False\n",
    "        else:\n",
    "            states_actions_returns.append((s,a,G))\n",
    "        G = r + GAMMA*G\n",
    "    states_actions_returns.reverse() # back to original order\n",
    "    return states_actions_returns"
   ]
  },
  {
   "cell_type": "code",
   "execution_count": 8,
   "metadata": {
    "collapsed": true
   },
   "outputs": [],
   "source": [
    "def monte_carlo(grid):\n",
    "    #initialize a random policy\n",
    "    policy = {}\n",
    "    for s in grid.actions.keys():\n",
    "        policy[s] = np.random.choice(ALL_POSSIBLE_ACTIONS)\n",
    "    \n",
    "    #initialize Q(s,a) and returns\n",
    "    Q = {}\n",
    "    visitCount = {}\n",
    "    states = grid.non_terminal_states()\n",
    "    for s in states:\n",
    "        Q[s] = {}\n",
    "        for a in ALL_POSSIBLE_ACTIONS:\n",
    "            Q[s][a] = 0\n",
    "            visitCount[(s,a)] = 0\n",
    "            \n",
    "    deltas = [] # keep track of changes in Q values so we know our model converges\n",
    "    for t in tqdm(range(N_EPISODES)):\n",
    "        #generates episode using current policy\n",
    "        biggest_change = 0\n",
    "        states_action_returns = play_game(grid,policy)\n",
    "        \n",
    "        #calulate Q(s,a)\n",
    "        seen_state_action_pairs = set()\n",
    "        for s,a,G in states_action_returns:\n",
    "            #check if we have already seen this state\n",
    "            #first visit Monte Carlo Optimization\n",
    "            sa = (s,a)\n",
    "            if sa not in seen_state_action_pairs:\n",
    "                visitCount[sa] += 1\n",
    "                oldq = Q[s][a]\n",
    "                #using incremental mean Uk = U(k-1) + 1/k (xk - U(k-1))\n",
    "                #the new Q[s][a] is sample mean of all our returns for that (state,action)\n",
    "                Q[s][a] = Q[s][a] + ( G - Q[s][a] )/visitCount[sa]\n",
    "                biggest_change = max(biggest_change, abs(oldq -Q[s][a]))\n",
    "                seen_state_action_pairs.add(sa)\n",
    "        deltas.append(biggest_change)\n",
    "        \n",
    "    \n",
    "        for s in policy.keys():\n",
    "            best_a = None\n",
    "            best_v = float('-inf')\n",
    "            for a,v in Q[s].items():\n",
    "                if v>best_v:\n",
    "                    best_a = a\n",
    "                    best_v = v\n",
    "            policy[s] = best_a\n",
    "\n",
    "    V = {}\n",
    "    for s in policy.keys():\n",
    "        best_v = float('-inf')\n",
    "        for a,v in Q[s].items():\n",
    "            if v>best_v:\n",
    "                best_v = v\n",
    "        V[s] = best_v\n",
    "    return V,policy,deltas"
   ]
  },
  {
   "cell_type": "code",
   "execution_count": 9,
   "metadata": {},
   "outputs": [
    {
     "name": "stderr",
     "output_type": "stream",
     "text": [
      "100%|██████████| 10000/10000 [00:03<00:00, 3266.42it/s]\n"
     ]
    },
    {
     "name": "stdout",
     "output_type": "stream",
     "text": [
      "Final Values:\n",
      "---------------------------\n",
      " 0.61| 0.77| 1.00| 0.00|\n",
      "---------------------------\n",
      " 0.14| 0.00| 0.21| 0.00|\n",
      "---------------------------\n",
      " 0.11|-0.01| 0.12|-0.02|\n",
      "Final Policy:\n",
      "---------------------------\n",
      "  R  |  R  |  R  |     |\n",
      "---------------------------\n",
      "  U  |     |  U  |     |\n",
      "---------------------------\n",
      "  U  |  L  |  U  |  L  |\n"
     ]
    },
    {
     "data": {
      "image/png": "[encoded data removed]",
      "text/plain": [
       "<matplotlib.figure.Figure at 0x7f9bbd766240>"
      ]
     },
     "metadata": {},
     "output_type": "display_data"
    }
   ],
   "source": [
    "grid= standard_grid(obey_prob=1.0,step_cost=None)\n",
    "V,policy,deltas = monte_carlo(grid)\n",
    "\n",
    "print(\"Final Values:\")\n",
    "print_values(V,grid)\n",
    "\n",
    "print(\"Final Policy:\")\n",
    "print_policy(policy,grid)\n",
    "\n",
    "%matplotlib inline\n",
    "import matplotlib.pyplot as plt\n",
    "\n",
    "plt.plot(deltas)\n",
    "plt.show()"
   ]
  },
  {
   "cell_type": "code",
   "execution_count": 10,
   "metadata": {},
   "outputs": [
    {
     "name": "stderr",
     "output_type": "stream",
     "text": [
      "100%|██████████| 10000/10000 [00:02<00:00, 3638.43it/s]\n"
     ]
    },
    {
     "name": "stdout",
     "output_type": "stream",
     "text": [
      "Final Values:\n",
      "---------------------------\n",
      " 0.42| 0.61| 0.82| 0.00|\n",
      "---------------------------\n",
      " 0.11| 0.00| 0.18| 0.00|\n",
      "---------------------------\n",
      " 0.07|-0.02| 0.01|-0.15|\n",
      "Final Policy:\n",
      "---------------------------\n",
      "  R  |  R  |  R  |     |\n",
      "---------------------------\n",
      "  U  |     |  U  |     |\n",
      "---------------------------\n",
      "  U  |  U  |  U  |  L  |\n"
     ]
    },
    {
     "data": {
      "image/png": "[encoded data removed]",
      "text/plain": [
       "<matplotlib.figure.Figure at 0x7f9b9eb444a8>"
      ]
     },
     "metadata": {},
     "output_type": "display_data"
    }
   ],
   "source": [
    "grid= standard_grid(obey_prob=.8,step_cost=None)\n",
    "V,policy,deltas = monte_carlo(grid)\n",
    "\n",
    "print(\"Final Values:\")\n",
    "print_values(V,grid)\n",
    "\n",
    "print(\"Final Policy:\")\n",
    "print_policy(policy,grid)\n",
    "\n",
    "%matplotlib inline\n",
    "import matplotlib.pyplot as plt\n",
    "\n",
    "plt.plot(deltas)\n",
    "plt.show()"
   ]
  },
  {
   "cell_type": "code",
   "execution_count": 11,
   "metadata": {},
   "outputs": [
    {
     "name": "stderr",
     "output_type": "stream",
     "text": [
      "100%|██████████| 10000/10000 [00:02<00:00, 3337.58it/s]\n"
     ]
    },
    {
     "name": "stdout",
     "output_type": "stream",
     "text": [
      "Final Values:\n",
      "---------------------------\n",
      " 0.18| 0.34| 0.51| 0.00|\n",
      "---------------------------\n",
      " 0.09| 0.00|-0.05| 0.00|\n",
      "---------------------------\n",
      " 0.01|-0.03|-0.06|-0.22|\n",
      "Final Policy:\n",
      "---------------------------\n",
      "  R  |  R  |  U  |     |\n",
      "---------------------------\n",
      "  U  |     |  L  |     |\n",
      "---------------------------\n",
      "  U  |  L  |  L  |  D  |\n"
     ]
    },
    {
     "data": {
      "image/png": "[encoded data removed]",
      "text/plain": [
       "<matplotlib.figure.Figure at 0x7f9b9eb1e240>"
      ]
     },
     "metadata": {},
     "output_type": "display_data"
    }
   ],
   "source": [
    "grid= standard_grid(obey_prob=0.5,step_cost=None)\n",
    "V,policy,deltas = monte_carlo(grid)\n",
    "\n",
    "print(\"Final Values:\")\n",
    "print_values(V,grid)\n",
    "\n",
    "print(\"Final Policy:\")\n",
    "print_policy(policy,grid)\n",
    "\n",
    "%matplotlib inline\n",
    "import matplotlib.pyplot as plt\n",
    "\n",
    "plt.plot(deltas)\n",
    "plt.show()"
   ]
  },
  {
   "cell_type": "code",
   "execution_count": 12,
   "metadata": {},
   "outputs": [
    {
     "name": "stderr",
     "output_type": "stream",
     "text": [
      "100%|██████████| 10000/10000 [00:02<00:00, 3477.86it/s]\n"
     ]
    },
    {
     "name": "stdout",
     "output_type": "stream",
     "text": [
      "Final Values:\n",
      "---------------------------\n",
      "-0.44|-0.03| 0.37| 0.00|\n",
      "---------------------------\n",
      "-0.72| 0.00|-0.43| 0.00|\n",
      "---------------------------\n",
      "-0.80|-0.83|-0.72|-0.93|\n",
      "Final Policy:\n",
      "---------------------------\n",
      "  R  |  R  |  R  |     |\n",
      "---------------------------\n",
      "  U  |     |  U  |     |\n",
      "---------------------------\n",
      "  U  |  U  |  U  |  U  |\n"
     ]
    },
    {
     "data": {
      "image/png": "[encoded data removed]",
      "text/plain": [
       "<matplotlib.figure.Figure at 0x7f9b9ea80128>"
      ]
     },
     "metadata": {},
     "output_type": "display_data"
    }
   ],
   "source": [
    "grid= standard_grid(obey_prob=0.5,step_cost=-0.1)\n",
    "V,policy,deltas = monte_carlo(grid)\n",
    "\n",
    "print(\"Final Values:\")\n",
    "print_values(V,grid)\n",
    "\n",
    "print(\"Final Policy:\")\n",
    "print_policy(policy,grid)\n",
    "\n",
    "%matplotlib inline\n",
    "import matplotlib.pyplot as plt\n",
    "\n",
    "plt.plot(deltas)\n",
    "plt.show()"
   ]
  },
  {
   "cell_type": "code",
   "execution_count": null,
   "metadata": {
    "collapsed": true
   },
   "outputs": [],
   "source": []
  },
  {
   "cell_type": "code",
   "execution_count": null,
   "metadata": {
    "collapsed": true
   },
   "outputs": [],
   "source": []
  }
 ],
 "metadata": {
  "kernelspec": {
   "display_name": "Python 3",
   "language": "python",
   "name": "python3"
  },
  "language_info": {
   "codemirror_mode": {
    "name": "ipython",
    "version": 3
   },
   "file_extension": ".py",
   "mimetype": "text/x-python",
   "name": "python",
   "nbconvert_exporter": "python",
   "pygments_lexer": "ipython3",
   "version": "3.6.3"
  }
 },
 "nbformat": 4,
 "nbformat_minor": 2
}
