{
 "cells": [
  {
   "cell_type": "code",
   "execution_count": 1,
   "metadata": {},
   "outputs": [],
   "source": [
    "import warnings\n",
    "warnings.filterwarnings('ignore')\n",
    "\n",
    "import numpy as np\n",
    "import time\n",
    "from tqdm.autonotebook import tqdm\n",
    "import gym\n",
    "%matplotlib inline\n",
    "import matplotlib.pyplot as plt"
   ]
  },
  {
   "cell_type": "code",
   "execution_count": 2,
   "metadata": {
    "collapsed": true
   },
   "outputs": [],
   "source": [
    "def moving_average(values, n=100) :\n",
    "    ret = np.cumsum(values, dtype=float)\n",
    "    ret[n:] = ret[n:] - ret[:-n]\n",
    "    return ret[n - 1:] / n"
   ]
  },
  {
   "cell_type": "code",
   "execution_count": 3,
   "metadata": {},
   "outputs": [],
   "source": [
    "env = gym.make('Taxi-v2')\n",
    "CHECKPOINT_DIR = 'checkpoints'\n",
    "MAX_STEPS = env.spec.timestep_limit\n",
    "NUM_EPISODES = 50000\n",
    "GAMMA = 0.95\n",
    "START_ALPHA = 0.1\n",
    "ALPHA_TAPER = 0.01\n",
    "START_EPSILON = 1\n",
    "EPSILON_TAPER = 0.01"
   ]
  },
  {
   "cell_type": "code",
   "execution_count": 4,
   "metadata": {},
   "outputs": [],
   "source": [
    "obs_dim = env.observation_space.n # size of our state\n",
    "action_dim = env.action_space.n # number of actions\n",
    "# Initialize our Q table\n",
    "Q = np.zeros((obs_dim, action_dim))\n",
    "\n",
    "# we're going to keep track of how many times each Q(s,a) is updated\n",
    "# this is for our adaptive learning rate\n",
    "state_visit_counts = {}\n",
    "update_counts = np.zeros((obs_dim, action_dim), dtype=np.dtype(int))"
   ]
  },
  {
   "cell_type": "code",
   "execution_count": 5,
   "metadata": {},
   "outputs": [],
   "source": [
    "## heart of algorithm\n",
    "def update_Q(prev_state,action,reward,cur_state):\n",
    "    alpha = START_ALPHA / (1.0 + update_counts[prev_state][action] * ALPHA_TAPER )\n",
    "    update_counts[prev_state][action] += 1\n",
    "    Q[prev_state][action] += alpha * ( reward + GAMMA * np.max(Q[cur_state]) - Q[prev_state][action] )\n",
    "    \n",
    "def epsilon_action(s, eps=START_EPSILON):\n",
    "    if np.random.random() < (1 - eps):\n",
    "        return np.argmax(Q[s])\n",
    "    else:\n",
    "        return env.action_space.sample()"
   ]
  },
  {
   "cell_type": "code",
   "execution_count": 6,
   "metadata": {},
   "outputs": [
    {
     "data": {
      "application/vnd.jupyter.widget-view+json": {
       "model_id": "9808174bde5d46648cd046907070d636",
       "version_major": 2,
       "version_minor": 0
      },
      "text/plain": [
       "HBox(children=(IntProgress(value=0, description='EPISODES COMPLETE', max=50000, style=ProgressStyle(descriptio…"
      ]
     },
     "metadata": {},
     "output_type": "display_data"
    },
    {
     "name": "stdout",
     "output_type": "stream",
     "text": [
      "Episode = 0  |  Avg Reward = 0.0  | Epsilon = 1.0\n",
      "Episode = 1000  |  Avg Reward = -167.551  | Epsilon = 0.09090909090909091\n",
      "Episode = 2000  |  Avg Reward = -0.523  | Epsilon = 0.047619047619047616\n",
      "Episode = 3000  |  Avg Reward = 6.135  | Epsilon = 0.03225806451612903\n",
      "Episode = 4000  |  Avg Reward = 7.154  | Epsilon = 0.024390243902439025\n",
      "Episode = 5000  |  Avg Reward = 7.178  | Epsilon = 0.0196078431372549\n",
      "Episode = 6000  |  Avg Reward = 7.425  | Epsilon = 0.01639344262295082\n",
      "Episode = 7000  |  Avg Reward = 7.74  | Epsilon = 0.014084507042253521\n",
      "Episode = 8000  |  Avg Reward = 8.002  | Epsilon = 0.012345679012345678\n",
      "Episode = 9000  |  Avg Reward = 8.071  | Epsilon = 0.01098901098901099\n",
      "Episode = 10000  |  Avg Reward = 7.982  | Epsilon = 0.009900990099009901\n",
      "Episode = 11000  |  Avg Reward = 8.112  | Epsilon = 0.009009009009009009\n",
      "Episode = 12000  |  Avg Reward = 8.043  | Epsilon = 0.008264462809917356\n",
      "Episode = 13000  |  Avg Reward = 8.129  | Epsilon = 0.007633587786259542\n",
      "Episode = 14000  |  Avg Reward = 8.047  | Epsilon = 0.0070921985815602835\n",
      "Episode = 15000  |  Avg Reward = 8.233  | Epsilon = 0.006622516556291391\n",
      "Episode = 16000  |  Avg Reward = 8.236  | Epsilon = 0.006211180124223602\n",
      "Episode = 17000  |  Avg Reward = 8.117  | Epsilon = 0.005847953216374269\n",
      "Episode = 18000  |  Avg Reward = 8.2  | Epsilon = 0.0055248618784530384\n",
      "Episode = 19000  |  Avg Reward = 8.257  | Epsilon = 0.005235602094240838\n",
      "Episode = 20000  |  Avg Reward = 8.137  | Epsilon = 0.004975124378109453\n",
      "Episode = 21000  |  Avg Reward = 8.143  | Epsilon = 0.004739336492890996\n",
      "Episode = 22000  |  Avg Reward = 8.289  | Epsilon = 0.004524886877828055\n",
      "Episode = 23000  |  Avg Reward = 8.293  | Epsilon = 0.004329004329004329\n",
      "Episode = 24000  |  Avg Reward = 8.185  | Epsilon = 0.004149377593360996\n",
      "Episode = 25000  |  Avg Reward = 8.363  | Epsilon = 0.00398406374501992\n",
      "Episode = 26000  |  Avg Reward = 8.317  | Epsilon = 0.0038314176245210726\n",
      "Episode = 27000  |  Avg Reward = 8.391  | Epsilon = 0.0036900369003690036\n",
      "Episode = 28000  |  Avg Reward = 8.209  | Epsilon = 0.0035587188612099642\n",
      "Episode = 29000  |  Avg Reward = 8.266  | Epsilon = 0.003436426116838488\n",
      "Episode = 30000  |  Avg Reward = 8.367  | Epsilon = 0.0033222591362126247\n",
      "Episode = 31000  |  Avg Reward = 8.337  | Epsilon = 0.003215434083601286\n",
      "Episode = 32000  |  Avg Reward = 8.155  | Epsilon = 0.003115264797507788\n",
      "Episode = 33000  |  Avg Reward = 8.271  | Epsilon = 0.0030211480362537764\n",
      "Episode = 34000  |  Avg Reward = 8.48  | Epsilon = 0.002932551319648094\n",
      "Episode = 35000  |  Avg Reward = 8.326  | Epsilon = 0.002849002849002849\n",
      "Episode = 36000  |  Avg Reward = 8.233  | Epsilon = 0.002770083102493075\n",
      "Episode = 37000  |  Avg Reward = 8.245  | Epsilon = 0.0026954177897574125\n",
      "Episode = 38000  |  Avg Reward = 8.343  | Epsilon = 0.0026246719160104987\n",
      "Episode = 39000  |  Avg Reward = 8.305  | Epsilon = 0.0025575447570332483\n",
      "Episode = 40000  |  Avg Reward = 8.329  | Epsilon = 0.0024937655860349127\n",
      "Episode = 41000  |  Avg Reward = 8.451  | Epsilon = 0.0024330900243309003\n",
      "Episode = 42000  |  Avg Reward = 8.37  | Epsilon = 0.0023752969121140144\n",
      "Episode = 43000  |  Avg Reward = 8.39  | Epsilon = 0.002320185614849188\n",
      "Episode = 44000  |  Avg Reward = 8.331  | Epsilon = 0.0022675736961451248\n",
      "Episode = 45000  |  Avg Reward = 8.353  | Epsilon = 0.0022172949002217295\n",
      "Episode = 46000  |  Avg Reward = 8.348  | Epsilon = 0.0021691973969631237\n",
      "Episode = 47000  |  Avg Reward = 8.321  | Epsilon = 0.0021231422505307855\n",
      "Episode = 48000  |  Avg Reward = 8.338  | Epsilon = 0.002079002079002079\n",
      "Episode = 49000  |  Avg Reward = 8.299  | Epsilon = 0.002036659877800407\n",
      "\n",
      "Each state was visited on average 1792.4625 times.\n"
     ]
    },
    {
     "data": {
      "image/png": "[encoded data removed]",
      "text/plain": [
       "<matplotlib.figure.Figure at 0x7f06a4b50cc0>"
      ]
     },
     "metadata": {},
     "output_type": "display_data"
    }
   ],
   "source": [
    "total_reward = 0\n",
    "deltas = []\n",
    "\n",
    "for episode in tqdm(range(NUM_EPISODES), desc=\"EPISODES COMPLETE\"):\n",
    "    # Taper EPSILON each episode\n",
    "    eps = START_EPSILON / (1.0 + episode * EPSILON_TAPER)\n",
    "\n",
    "    if episode % 1000 == 0:\n",
    "        print(\"Episode =\", episode, \" |  Avg Reward =\", total_reward/1000, \" | Epsilon =\", eps)\n",
    "        total_reward = 0\n",
    "\n",
    "    biggest_change = 0\n",
    "    curr_state = env.reset()\n",
    "    for step in range(MAX_STEPS):\n",
    "        prev_state = curr_state\n",
    "        state_visit_counts[prev_state] = state_visit_counts.get(prev_state,0) + 1\n",
    "        action = epsilon_action(curr_state, eps)\n",
    "        curr_state, reward, done, info = env.step(action)\n",
    "        total_reward += reward\n",
    "        old_qsa = Q[prev_state][action]\n",
    "        update_Q(prev_state, action, reward, curr_state)\n",
    "        biggest_change = max(biggest_change, np.abs(old_qsa - Q[prev_state][action]))\n",
    "        if done:\n",
    "            break\n",
    "    \n",
    "    deltas.append(biggest_change)\n",
    "\n",
    "mean_state_visit = np.mean(list(state_visit_counts.values()))\n",
    "print(\"Each state was visited on average {} times.\".format(mean_state_visit))\n",
    "\n",
    "plt.plot(moving_average(deltas,n=1000))\n",
    "plt.show()"
   ]
  },
  {
   "cell_type": "code",
   "execution_count": 7,
   "metadata": {
    "scrolled": false
   },
   "outputs": [
    {
     "name": "stdout",
     "output_type": "stream",
     "text": [
      "+---------+\n",
      "|\u001b[34;1mR\u001b[0m: | : :\u001b[43mG\u001b[0m|\n",
      "| : : : : |\n",
      "| : : : : |\n",
      "| | : | : |\n",
      "|\u001b[35mY\u001b[0m| : |B: |\n",
      "+---------+\n",
      "\n",
      "+---------+\n",
      "|\u001b[34;1mR\u001b[0m: | : :G|\n",
      "| : : : :\u001b[43m \u001b[0m|\n",
      "| : : : : |\n",
      "| | : | : |\n",
      "|\u001b[35mY\u001b[0m| : |B: |\n",
      "+---------+\n",
      "  (South)\n",
      "+---------+\n",
      "|\u001b[34;1mR\u001b[0m: | : :G|\n",
      "| : : :\u001b[43m \u001b[0m: |\n",
      "| : : : : |\n",
      "| | : | : |\n",
      "|\u001b[35mY\u001b[0m| : |B: |\n",
      "+---------+\n",
      "  (West)\n",
      "+---------+\n",
      "|\u001b[34;1mR\u001b[0m: | : :G|\n",
      "| : :\u001b[43m \u001b[0m: : |\n",
      "| : : : : |\n",
      "| | : | : |\n",
      "|\u001b[35mY\u001b[0m| : |B: |\n",
      "+---------+\n",
      "  (West)\n",
      "+---------+\n",
      "|\u001b[34;1mR\u001b[0m: | : :G|\n",
      "| :\u001b[43m \u001b[0m: : : |\n",
      "| : : : : |\n",
      "| | : | : |\n",
      "|\u001b[35mY\u001b[0m| : |B: |\n",
      "+---------+\n",
      "  (West)\n",
      "+---------+\n",
      "|\u001b[34;1mR\u001b[0m:\u001b[43m \u001b[0m| : :G|\n",
      "| : : : : |\n",
      "| : : : : |\n",
      "| | : | : |\n",
      "|\u001b[35mY\u001b[0m| : |B: |\n",
      "+---------+\n",
      "  (North)\n",
      "+---------+\n",
      "|\u001b[34;1m\u001b[43mR\u001b[0m\u001b[0m: | : :G|\n",
      "| : : : : |\n",
      "| : : : : |\n",
      "| | : | : |\n",
      "|\u001b[35mY\u001b[0m| : |B: |\n",
      "+---------+\n",
      "  (West)\n",
      "+---------+\n",
      "|\u001b[42mR\u001b[0m: | : :G|\n",
      "| : : : : |\n",
      "| : : : : |\n",
      "| | : | : |\n",
      "|\u001b[35mY\u001b[0m| : |B: |\n",
      "+---------+\n",
      "  (Pickup)\n",
      "+---------+\n",
      "|R: | : :G|\n",
      "|\u001b[42m_\u001b[0m: : : : |\n",
      "| : : : : |\n",
      "| | : | : |\n",
      "|\u001b[35mY\u001b[0m| : |B: |\n",
      "+---------+\n",
      "  (South)\n",
      "+---------+\n",
      "|R: | : :G|\n",
      "| : : : : |\n",
      "|\u001b[42m_\u001b[0m: : : : |\n",
      "| | : | : |\n",
      "|\u001b[35mY\u001b[0m| : |B: |\n",
      "+---------+\n",
      "  (South)\n",
      "+---------+\n",
      "|R: | : :G|\n",
      "| : : : : |\n",
      "| : : : : |\n",
      "|\u001b[42m_\u001b[0m| : | : |\n",
      "|\u001b[35mY\u001b[0m| : |B: |\n",
      "+---------+\n",
      "  (South)\n",
      "+---------+\n",
      "|R: | : :G|\n",
      "| : : : : |\n",
      "| : : : : |\n",
      "| | : | : |\n",
      "|\u001b[35m\u001b[42mY\u001b[0m\u001b[0m| : |B: |\n",
      "+---------+\n",
      "  (South)\n",
      "+---------+\n",
      "|R: | : :G|\n",
      "| : : : : |\n",
      "| : : : : |\n",
      "| | : | : |\n",
      "|\u001b[35m\u001b[42mY\u001b[0m\u001b[0m| : |B: |\n",
      "+---------+\n",
      "  (Dropoff)\n"
     ]
    },
    {
     "data": {
      "text/plain": [
       "443"
      ]
     },
     "execution_count": 7,
     "metadata": {},
     "output_type": "execute_result"
    }
   ],
   "source": [
    "curr = env.reset()\n",
    "total_reward= 0\n",
    "while True:\n",
    "    env.render()\n",
    "    action = np.argmax(Q[curr])\n",
    "    curr,reward,done,_ = env.step(action)\n",
    "    total_reward+=reward\n",
    "    if done:\n",
    "        break\n",
    "env.render()\n",
    "env.reset()"
   ]
  },
  {
   "cell_type": "code",
   "execution_count": null,
   "metadata": {
    "collapsed": true
   },
   "outputs": [],
   "source": []
  }
 ],
 "metadata": {
  "kernelspec": {
   "display_name": "Python 3",
   "language": "python",
   "name": "python3"
  },
  "language_info": {
   "codemirror_mode": {
    "name": "ipython",
    "version": 3
   },
   "file_extension": ".py",
   "mimetype": "text/x-python",
   "name": "python",
   "nbconvert_exporter": "python",
   "pygments_lexer": "ipython3",
   "version": "3.6.3"
  }
 },
 "nbformat": 4,
 "nbformat_minor": 2
}
